{
 "cells": [
  {
   "cell_type": "code",
   "execution_count": 57,
   "id": "e522bb3f-fd2b-4842-9bbe-a492d1121f91",
   "metadata": {},
   "outputs": [],
   "source": [
    "import os\n",
    "import pandas as pd\n",
    "from dash import dash_table\n",
    "\n",
    "from tools import file_ops\n",
    "report_path = '/Users/jennifershtaway/Projects/JobSearchAutomation/reports/report.json'"
   ]
  },
  {
   "cell_type": "code",
   "execution_count": 74,
   "id": "eeb9afae-4048-457d-956c-ab2e59cf4091",
   "metadata": {},
   "outputs": [
    {
     "data": {
      "text/plain": [
       "True"
      ]
     },
     "execution_count": 74,
     "metadata": {},
     "output_type": "execute_result"
    }
   ],
   "source": [
    "data = file_ops.load_json(report_path)\n",
    "df = pd.DataFrame.from_dict({\n",
    "    (feature['name'], scenario['name']): {\n",
    "        \"status\": all([step['result']['status'] == 'passed' for step in scenario['steps']]),\n",
    "        \"duration\": sum([step['result']['duration'] for step in scenario['steps']])\n",
    "    }\n",
    "    for feature in data\n",
    "    for scenario in feature['elements']\n",
    "}, orient=\"index\")\n",
    "dash_table.DataTable(\n",
    "            df.to_dict(\"records\"),\n",
    "            [{\"name\": i, \"id\": i} for i in df.columns]\n",
    "        )\n",
    "# df.reset_index().to_dict('records')\n",
    "# df.reset_index(names=['feature', 'scenario']).to_dict('records')\n",
    "df = df.reset_index(names=['feature', 'scenario'])\n",
    "df.to_csv('report.csv')\n",
    "isinstance(df, pd.DataFrame)"
   ]
  },
  {
   "cell_type": "code",
   "execution_count": 44,
   "id": "32730daf-d70e-40b1-ad82-3672f2b94f5a",
   "metadata": {},
   "outputs": [
    {
     "data": {
      "text/plain": [
       "[{'att_1': 1, 'att_2': 'whatever'},\n",
       " {'att_1': 1, 'att_2': 'whatever'},\n",
       " {'att_1': 23, 'att_2': 'another'},\n",
       " {'att_1': 23, 'att_2': 'another'},\n",
       " {'att_1': 10, 'att_2': 'foo'},\n",
       " {'att_1': 10, 'att_2': 'foo'},\n",
       " {'att_1': 30, 'att_2': 'bar'},\n",
       " {'att_1': 30, 'att_2': 'bar'}]"
      ]
     },
     "execution_count": 44,
     "metadata": {},
     "output_type": "execute_result"
    }
   ],
   "source": [
    "user_dict = {12: {'Category 1': {'att_1': 1, 'att_2': 'whatever'},\n",
    "                  'Category 2': {'att_1': 23, 'att_2': 'another'}},\n",
    "             15: {'Category 1': {'att_1': 10, 'att_2': 'foo'},\n",
    "                  'Category 2': {'att_1': 30, 'att_2': 'bar'}}}\n",
    "\n",
    "pd.DataFrame.from_dict({(i,j,k): user_dict[i][j][k]\n",
    "                           for i in user_dict.keys() \n",
    "                           for j in user_dict[i].keys()\n",
    "                           for k in user_dict[i][j].keys()\n",
    "                       },\n",
    "                       orient='index')\n",
    "# [(i,j,k) for i in user_dict.keys() for j in user_dict[i].keys() for k in user_dict[i][j].keys()]\n",
    "[user_dict[i][j] for i in user_dict.keys() for j in user_dict[i].keys() for k in user_dict[i][j].keys()]"
   ]
  },
  {
   "cell_type": "code",
   "execution_count": null,
   "id": "1a53d07b-fdf6-4c27-add1-87de7676d667",
   "metadata": {},
   "outputs": [],
   "source": []
  }
 ],
 "metadata": {
  "kernelspec": {
   "display_name": "Python 3 (ipykernel)",
   "language": "python",
   "name": "python3"
  },
  "language_info": {
   "codemirror_mode": {
    "name": "ipython",
    "version": 3
   },
   "file_extension": ".py",
   "mimetype": "text/x-python",
   "name": "python",
   "nbconvert_exporter": "python",
   "pygments_lexer": "ipython3",
   "version": "3.12.0"
  }
 },
 "nbformat": 4,
 "nbformat_minor": 5
}
